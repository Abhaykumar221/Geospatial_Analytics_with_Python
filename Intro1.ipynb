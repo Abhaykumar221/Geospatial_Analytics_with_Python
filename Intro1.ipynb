{
 "cells": [
  {
   "cell_type": "markdown",
   "id": "b7dc8ae9",
   "metadata": {},
   "source": [
    "### Import relevant libraries"
   ]
  },
  {
   "cell_type": "markdown",
   "id": "9076c981",
   "metadata": {},
   "source": [
    "_Uncomment and run the following cells to import the libraries:_"
   ]
  },
  {
   "cell_type": "code",
   "execution_count": 1,
   "id": "20aa7838",
   "metadata": {},
   "outputs": [],
   "source": [
    "import pandas as pd"
   ]
  },
  {
   "cell_type": "code",
   "execution_count": 2,
   "id": "af638a74",
   "metadata": {},
   "outputs": [
    {
     "name": "stderr",
     "output_type": "stream",
     "text": [
      "/var/folders/v9/qdj2sw7n6316mgf6_n6f4w680000gn/T/ipykernel_37904/3841419929.py:1: DeprecationWarning: Shapely 2.0 is installed, but because PyGEOS is also installed, GeoPandas still uses PyGEOS by default. However, starting with version 0.14, the default will switch to Shapely. To force to use Shapely 2.0 now, you can either uninstall PyGEOS or set the environment variable USE_PYGEOS=0. You can do this before starting the Python process, or in your code before importing geopandas:\n",
      "\n",
      "import os\n",
      "os.environ['USE_PYGEOS'] = '0'\n",
      "import geopandas\n",
      "\n",
      "In the next release, GeoPandas will switch to using Shapely by default, even if PyGEOS is installed. If you only have PyGEOS installed to get speed-ups, this switch should be smooth. However, if you are using PyGEOS directly (calling PyGEOS functions on geometries from GeoPandas), this will then stop working and you are encouraged to migrate from PyGEOS to Shapely 2.0 (https://shapely.readthedocs.io/en/latest/migration_pygeos.html).\n",
      "  import geopandas as gpd\n"
     ]
    }
   ],
   "source": [
    "import geopandas as gpd"
   ]
  },
  {
   "cell_type": "code",
   "execution_count": 3,
   "id": "1b649f69",
   "metadata": {},
   "outputs": [],
   "source": [
    "import pysal as ps"
   ]
  },
  {
   "cell_type": "code",
   "execution_count": 4,
   "id": "ea45243c",
   "metadata": {},
   "outputs": [
    {
     "name": "stderr",
     "output_type": "stream",
     "text": [
      "/Users/abhaykumar/anaconda3/envs/sds_python/lib/python3.10/site-packages/libpysal/cg/alpha_shapes.py:39: NumbaDeprecationWarning: \u001b[1mThe 'nopython' keyword argument was not supplied to the 'numba.jit' decorator. The implicit default value for this argument is currently False, but it will be changed to True in Numba 0.59.0. See https://numba.readthedocs.io/en/stable/reference/deprecation.html#deprecation-of-object-mode-fall-back-behaviour-when-using-jit for details.\u001b[0m\n",
      "  def nb_dist(x, y):\n",
      "/Users/abhaykumar/anaconda3/envs/sds_python/lib/python3.10/site-packages/libpysal/cg/alpha_shapes.py:165: NumbaDeprecationWarning: \u001b[1mThe 'nopython' keyword argument was not supplied to the 'numba.jit' decorator. The implicit default value for this argument is currently False, but it will be changed to True in Numba 0.59.0. See https://numba.readthedocs.io/en/stable/reference/deprecation.html#deprecation-of-object-mode-fall-back-behaviour-when-using-jit for details.\u001b[0m\n",
      "  def get_faces(triangle):\n",
      "/Users/abhaykumar/anaconda3/envs/sds_python/lib/python3.10/site-packages/libpysal/cg/alpha_shapes.py:199: NumbaDeprecationWarning: \u001b[1mThe 'nopython' keyword argument was not supplied to the 'numba.jit' decorator. The implicit default value for this argument is currently False, but it will be changed to True in Numba 0.59.0. See https://numba.readthedocs.io/en/stable/reference/deprecation.html#deprecation-of-object-mode-fall-back-behaviour-when-using-jit for details.\u001b[0m\n",
      "  def build_faces(faces, triangles_is, num_triangles, num_faces_single):\n",
      "/Users/abhaykumar/anaconda3/envs/sds_python/lib/python3.10/site-packages/libpysal/cg/alpha_shapes.py:261: NumbaDeprecationWarning: \u001b[1mThe 'nopython' keyword argument was not supplied to the 'numba.jit' decorator. The implicit default value for this argument is currently False, but it will be changed to True in Numba 0.59.0. See https://numba.readthedocs.io/en/stable/reference/deprecation.html#deprecation-of-object-mode-fall-back-behaviour-when-using-jit for details.\u001b[0m\n",
      "  def nb_mask_faces(mask, faces):\n"
     ]
    }
   ],
   "source": [
    "import libpysal"
   ]
  },
  {
   "cell_type": "code",
   "execution_count": 5,
   "id": "b96262d6",
   "metadata": {},
   "outputs": [],
   "source": [
    "import pyproj"
   ]
  },
  {
   "cell_type": "code",
   "execution_count": 6,
   "id": "89da726d",
   "metadata": {},
   "outputs": [],
   "source": [
    "import geopy"
   ]
  },
  {
   "cell_type": "code",
   "execution_count": 7,
   "id": "18dadc1f",
   "metadata": {},
   "outputs": [],
   "source": [
    "import cartopy as cp"
   ]
  },
  {
   "cell_type": "code",
   "execution_count": 8,
   "id": "fe27625b",
   "metadata": {},
   "outputs": [],
   "source": [
    "import geojson"
   ]
  },
  {
   "cell_type": "code",
   "execution_count": 9,
   "id": "92c714b4",
   "metadata": {},
   "outputs": [],
   "source": [
    "import osmnx as ox"
   ]
  },
  {
   "cell_type": "code",
   "execution_count": 10,
   "id": "f4921b2e",
   "metadata": {},
   "outputs": [],
   "source": [
    "import matplotlib.pyplot as plt"
   ]
  },
  {
   "cell_type": "code",
   "execution_count": 11,
   "id": "7a791cd3",
   "metadata": {},
   "outputs": [],
   "source": [
    "import sklearn"
   ]
  },
  {
   "cell_type": "code",
   "execution_count": 12,
   "id": "34a92b7d",
   "metadata": {},
   "outputs": [],
   "source": [
    "import seaborn as sns"
   ]
  },
  {
   "cell_type": "code",
   "execution_count": 13,
   "id": "d5dd09ef",
   "metadata": {},
   "outputs": [],
   "source": [
    "import bokeh"
   ]
  },
  {
   "cell_type": "code",
   "execution_count": 14,
   "id": "07d60562",
   "metadata": {},
   "outputs": [],
   "source": [
    "import folium"
   ]
  },
  {
   "cell_type": "markdown",
   "id": "b64e0ac8",
   "metadata": {},
   "source": [
    "### Use example datasets from the pysal library"
   ]
  },
  {
   "cell_type": "code",
   "execution_count": 15,
   "id": "35ba8292",
   "metadata": {},
   "outputs": [],
   "source": [
    "from libpysal.examples import available\n",
    "from libpysal.examples import explain"
   ]
  },
  {
   "cell_type": "markdown",
   "id": "95cfe845",
   "metadata": {},
   "source": [
    "### Lists available datasets"
   ]
  },
  {
   "cell_type": "code",
   "execution_count": 16,
   "id": "6d0d7fcf",
   "metadata": {},
   "outputs": [
    {
     "data": {
      "text/html": [
       "<div>\n",
       "<style scoped>\n",
       "    .dataframe tbody tr th:only-of-type {\n",
       "        vertical-align: middle;\n",
       "    }\n",
       "\n",
       "    .dataframe tbody tr th {\n",
       "        vertical-align: top;\n",
       "    }\n",
       "\n",
       "    .dataframe thead th {\n",
       "        text-align: right;\n",
       "    }\n",
       "</style>\n",
       "<table border=\"1\" class=\"dataframe\">\n",
       "  <thead>\n",
       "    <tr style=\"text-align: right;\">\n",
       "      <th></th>\n",
       "      <th>Name</th>\n",
       "      <th>Description</th>\n",
       "      <th>Installed</th>\n",
       "    </tr>\n",
       "  </thead>\n",
       "  <tbody>\n",
       "    <tr>\n",
       "      <th>0</th>\n",
       "      <td>10740</td>\n",
       "      <td>Albuquerque, New Mexico, Census 2000 Tract Dat...</td>\n",
       "      <td>True</td>\n",
       "    </tr>\n",
       "    <tr>\n",
       "      <th>1</th>\n",
       "      <td>AirBnB</td>\n",
       "      <td>Airbnb rentals, socioeconomics, and crime in C...</td>\n",
       "      <td>False</td>\n",
       "    </tr>\n",
       "    <tr>\n",
       "      <th>2</th>\n",
       "      <td>Atlanta</td>\n",
       "      <td>Atlanta, GA region homicide counts and rates</td>\n",
       "      <td>False</td>\n",
       "    </tr>\n",
       "    <tr>\n",
       "      <th>3</th>\n",
       "      <td>Baltimore</td>\n",
       "      <td>Baltimore house sales prices and hedonics</td>\n",
       "      <td>False</td>\n",
       "    </tr>\n",
       "    <tr>\n",
       "      <th>4</th>\n",
       "      <td>Bostonhsg</td>\n",
       "      <td>Boston housing and neighborhood data</td>\n",
       "      <td>False</td>\n",
       "    </tr>\n",
       "    <tr>\n",
       "      <th>...</th>\n",
       "      <td>...</td>\n",
       "      <td>...</td>\n",
       "      <td>...</td>\n",
       "    </tr>\n",
       "    <tr>\n",
       "      <th>94</th>\n",
       "      <td>taz</td>\n",
       "      <td>Traffic Analysis Zones in So. California</td>\n",
       "      <td>False</td>\n",
       "    </tr>\n",
       "    <tr>\n",
       "      <th>95</th>\n",
       "      <td>tokyo</td>\n",
       "      <td>Tokyo Mortality data</td>\n",
       "      <td>True</td>\n",
       "    </tr>\n",
       "    <tr>\n",
       "      <th>96</th>\n",
       "      <td>us_income</td>\n",
       "      <td>Per-capita income for the lower 48 US states 1...</td>\n",
       "      <td>True</td>\n",
       "    </tr>\n",
       "    <tr>\n",
       "      <th>97</th>\n",
       "      <td>virginia</td>\n",
       "      <td>Virginia counties shapefile</td>\n",
       "      <td>True</td>\n",
       "    </tr>\n",
       "    <tr>\n",
       "      <th>98</th>\n",
       "      <td>wmat</td>\n",
       "      <td>Datasets used for spatial weights testing</td>\n",
       "      <td>True</td>\n",
       "    </tr>\n",
       "  </tbody>\n",
       "</table>\n",
       "<p>99 rows × 3 columns</p>\n",
       "</div>"
      ],
      "text/plain": [
       "         Name                                        Description  Installed\n",
       "0       10740  Albuquerque, New Mexico, Census 2000 Tract Dat...       True\n",
       "1      AirBnB  Airbnb rentals, socioeconomics, and crime in C...      False\n",
       "2     Atlanta       Atlanta, GA region homicide counts and rates      False\n",
       "3   Baltimore          Baltimore house sales prices and hedonics      False\n",
       "4   Bostonhsg               Boston housing and neighborhood data      False\n",
       "..        ...                                                ...        ...\n",
       "94        taz           Traffic Analysis Zones in So. California      False\n",
       "95      tokyo                               Tokyo Mortality data       True\n",
       "96  us_income  Per-capita income for the lower 48 US states 1...       True\n",
       "97   virginia                        Virginia counties shapefile       True\n",
       "98       wmat          Datasets used for spatial weights testing       True\n",
       "\n",
       "[99 rows x 3 columns]"
      ]
     },
     "execution_count": 16,
     "metadata": {},
     "output_type": "execute_result"
    }
   ],
   "source": [
    "available() # this may take a while to finish loading"
   ]
  },
  {
   "cell_type": "markdown",
   "id": "0d8534a1",
   "metadata": {},
   "source": [
    "### Explain a dataset by _Name_"
   ]
  },
  {
   "cell_type": "code",
   "execution_count": 17,
   "id": "00d769f0",
   "metadata": {},
   "outputs": [
    {
     "data": {
      "text/html": [
       "\n",
       "        <iframe\n",
       "            width=\"700\"\n",
       "            height=\"350\"\n",
       "            src=\"https://geodacenter.github.io/data-and-lab//columbus/\"\n",
       "            frameborder=\"0\"\n",
       "            allowfullscreen\n",
       "            \n",
       "        ></iframe>\n",
       "        "
      ],
      "text/plain": [
       "<IPython.lib.display.IFrame at 0x16a395bd0>"
      ]
     },
     "execution_count": 17,
     "metadata": {},
     "output_type": "execute_result"
    }
   ],
   "source": [
    "explain('Columbus') # here we are getting more information on the 'Columbus' dataset"
   ]
  },
  {
   "cell_type": "markdown",
   "id": "e31887ac",
   "metadata": {},
   "source": [
    "### Use the osmnx library to read OpenStreetMap data to a geodataframe _(gdf)_"
   ]
  },
  {
   "cell_type": "code",
   "execution_count": 18,
   "id": "567cf931",
   "metadata": {
    "scrolled": true
   },
   "outputs": [
    {
     "data": {
      "text/html": [
       "<div>\n",
       "<style scoped>\n",
       "    .dataframe tbody tr th:only-of-type {\n",
       "        vertical-align: middle;\n",
       "    }\n",
       "\n",
       "    .dataframe tbody tr th {\n",
       "        vertical-align: top;\n",
       "    }\n",
       "\n",
       "    .dataframe thead th {\n",
       "        text-align: right;\n",
       "    }\n",
       "</style>\n",
       "<table border=\"1\" class=\"dataframe\">\n",
       "  <thead>\n",
       "    <tr style=\"text-align: right;\">\n",
       "      <th></th>\n",
       "      <th>geometry</th>\n",
       "      <th>bbox_north</th>\n",
       "      <th>bbox_south</th>\n",
       "      <th>bbox_east</th>\n",
       "      <th>bbox_west</th>\n",
       "      <th>place_id</th>\n",
       "      <th>osm_type</th>\n",
       "      <th>osm_id</th>\n",
       "      <th>lat</th>\n",
       "      <th>lon</th>\n",
       "      <th>class</th>\n",
       "      <th>type</th>\n",
       "      <th>place_rank</th>\n",
       "      <th>importance</th>\n",
       "      <th>addresstype</th>\n",
       "      <th>name</th>\n",
       "      <th>display_name</th>\n",
       "    </tr>\n",
       "  </thead>\n",
       "  <tbody>\n",
       "    <tr>\n",
       "      <th>0</th>\n",
       "      <td>POLYGON ((-87.13764 37.34128, -87.13691 37.334...</td>\n",
       "      <td>37.737713</td>\n",
       "      <td>37.212326</td>\n",
       "      <td>-86.576241</td>\n",
       "      <td>-87.137642</td>\n",
       "      <td>299017293</td>\n",
       "      <td>relation</td>\n",
       "      <td>1846572</td>\n",
       "      <td>37.47577</td>\n",
       "      <td>-86.856064</td>\n",
       "      <td>boundary</td>\n",
       "      <td>administrative</td>\n",
       "      <td>12</td>\n",
       "      <td>0.506776</td>\n",
       "      <td>county</td>\n",
       "      <td>Ohio County</td>\n",
       "      <td>Ohio County, Kentucky, United States</td>\n",
       "    </tr>\n",
       "  </tbody>\n",
       "</table>\n",
       "</div>"
      ],
      "text/plain": [
       "                                            geometry  bbox_north  bbox_south  \\\n",
       "0  POLYGON ((-87.13764 37.34128, -87.13691 37.334...   37.737713   37.212326   \n",
       "\n",
       "   bbox_east  bbox_west   place_id  osm_type   osm_id       lat        lon  \\\n",
       "0 -86.576241 -87.137642  299017293  relation  1846572  37.47577 -86.856064   \n",
       "\n",
       "      class            type  place_rank  importance addresstype         name  \\\n",
       "0  boundary  administrative          12    0.506776      county  Ohio County   \n",
       "\n",
       "                           display_name  \n",
       "0  Ohio County, Kentucky, United States  "
      ]
     },
     "execution_count": 18,
     "metadata": {},
     "output_type": "execute_result"
    }
   ],
   "source": [
    "region_name = 'Ohio, USA' \n",
    "region = ox.geocoder.geocode_to_gdf(region_name, which_result=2)\n",
    "region"
   ]
  },
  {
   "cell_type": "code",
   "execution_count": null,
   "id": "30037709",
   "metadata": {},
   "outputs": [],
   "source": []
  }
 ],
 "metadata": {
  "kernelspec": {
   "display_name": "Python 3 (ipykernel)",
   "language": "python",
   "name": "python3"
  },
  "language_info": {
   "codemirror_mode": {
    "name": "ipython",
    "version": 3
   },
   "file_extension": ".py",
   "mimetype": "text/x-python",
   "name": "python",
   "nbconvert_exporter": "python",
   "pygments_lexer": "ipython3",
   "version": "3.10.12"
  }
 },
 "nbformat": 4,
 "nbformat_minor": 5
}
